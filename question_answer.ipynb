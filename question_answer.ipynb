{
 "cells": [
  {
   "cell_type": "code",
   "execution_count": null,
   "metadata": {},
   "outputs": [],
   "source": [
    "#Установим необходимые пакеты Python\n",
    "!pip3 install psycopg2\n",
    "!pip3 install psycopg2-binary scikit-learn numpy pymorphy2"
   ]
  },
  {
   "cell_type": "code",
   "execution_count": 1,
   "metadata": {},
   "outputs": [],
   "source": [
    "# Импортируем библиотеки\n",
    "import pymorphy2\n",
    "import re\n",
    "import psycopg2\n",
    "import numpy as np"
   ]
  },
  {
   "cell_type": "code",
   "execution_count": 2,
   "metadata": {},
   "outputs": [],
   "source": [
    "# Подключаемся к PostgreSQL\n",
    "import psycopg2\n",
    "\n",
    "try:\n",
    "    conn = psycopg2.connect(dbname='postgres', user='postgres', password='postgres', host='localhost')\n",
    "    cursor = conn.cursor()\n",
    "except:\n",
    "    # в случае сбоя подключения будет выведено сообщение \n",
    "    print('Can`t establish connection to database')"
   ]
  },
  {
   "cell_type": "code",
   "execution_count": 3,
   "metadata": {},
   "outputs": [],
   "source": [
    "# Настраиваем язык для библиотеки морфологии\n",
    "import pymorphy3\n",
    "\n",
    "morph = pymorphy3.MorphAnalyzer(lang='ru')"
   ]
  },
  {
   "cell_type": "code",
   "execution_count": 4,
   "metadata": {},
   "outputs": [],
   "source": [
    "# объявляем массив кодов ответов и ответов\n",
    "answer_id=[] \n",
    "answer = dict()"
   ]
  },
  {
   "cell_type": "code",
   "execution_count": 5,
   "metadata": {},
   "outputs": [
    {
     "data": {
      "text/plain": [
       "{4: '14 дней',\n",
       " 5: '30 дней',\n",
       " 6: '5 дней',\n",
       " 1: '1 день',\n",
       " 2: '3 дня',\n",
       " 3: '10 дней',\n",
       " 7: 'да, я готов поговорить об этом',\n",
       " 8: 'здравствуйте',\n",
       " 9: 'скоро'}"
      ]
     },
     "execution_count": 5,
     "metadata": {},
     "output_type": "execute_result"
    }
   ],
   "source": [
    "# получаем из PostgreSQL список ответов и проиндексируем их.\n",
    "cursor.execute('SELECT id, answer FROM tab_answer;')\n",
    "records = cursor.fetchall()\n",
    "for row in records:\n",
    "\t\tanswer[row[0]]=row[1]  \n",
    "answer\t\t"
   ]
  },
  {
   "cell_type": "code",
   "execution_count": 6,
   "metadata": {},
   "outputs": [
    {
     "name": "stdout",
     "output_type": "stream",
     "text": [
      "['срок', 'срок обработка', 'срок обработка заявка', 'срок', 'срок обработка', 'срок обработка заказ', 'срок', 'срок обработка', 'срок обработка заявка', 'срок', 'срок сдача', 'срок сдача проект', 'срок', 'срок изготовление', 'срок изготовление изделие', 'срок', 'срок возврат', 'срок возврат товар', 'время', 'время доставка', 'я', 'я пора', 'я пора увеличить', 'я пора увеличить зарплата', 'сколько', 'сколько у', 'сколько у я', 'сколько у я отпуск', 'добрый', 'добрый утро', 'новогодний', 'новогодний каникулы']\n",
      "{4: '14 дней', 5: '30 дней', 6: '5 дней', 1: '1 день', 2: '3 дня', 3: '10 дней', 7: 'да, я готов поговорить об этом', 8: 'здравствуйте', 9: 'скоро'}\n",
      "[[1], [1], [1], [1], [1], [1], [2], [2], [2], [3], [3], [3], [4], [4], [4], [5], [5], [5], [6], [6], [7], [7], [7], [7], [5], [5], [5], [5], [8], [8], [9], [9]]\n"
     ]
    }
   ],
   "source": [
    "# объявляем массив вопросов\n",
    "questions=[] \n",
    "\n",
    "# загрузим вопросы и коды ответов\n",
    "cursor.execute('SELECT question, answer_id FROM tab_question;')\n",
    "records = cursor.fetchall()\n",
    "\n",
    "# посчитаем количество вопросов\n",
    "transform=0\n",
    "\n",
    "for row in records:\n",
    "\tphrases=row[0]\n",
    "\t# разбираем вопрос на слова\n",
    "\twords=phrases.split(' ')\n",
    "\tphrase=\"\"\n",
    "\tfor word in words:\n",
    "\t\t# каждое слово из вопроса приводим в нормальную словоформу\n",
    "\t\tword = morph.parse(word)[0].normal_form \n",
    "\t\t# составляем фразу из нормализованных слов\n",
    "\t\tphrase = phrase + word + \" \"\n",
    "\t\t# Если длинна полученной фразы больше 0 добавляем ей в массив вопросов и массив кодов ответов\n",
    "\t\tif (len(phrase)>0):\n",
    "\t\t\tquestions.append(phrase.strip())\n",
    "\t\t\tanswer_id.append(row[1])\n",
    "\t\t\ttransform=transform+1\n",
    "\n",
    "# выведем на экран вопросы, ответы и коды ответов\n",
    "print (questions)\n",
    "print (answer)\n",
    "print (answer_id)\n",
    "\n",
    "# Закроем подключение к PostgreSQL\n",
    "cursor.close()\n",
    "conn.close()\n"
   ]
  },
  {
   "cell_type": "code",
   "execution_count": 7,
   "metadata": {},
   "outputs": [
    {
     "name": "stdout",
     "output_type": "stream",
     "text": [
      "Размер матрицы: \n",
      "(32, 21)\n"
     ]
    }
   ],
   "source": [
    "import sklearn\n",
    "# Векторизируем вопросы в огромную матрицу \n",
    "# Перемножив фразы на слова из которых они состоят получим числовые значения\n",
    "\n",
    "from sklearn.feature_extraction.text import TfidfVectorizer\n",
    "from sklearn.decomposition import TruncatedSVD\n",
    "\n",
    "vectorizer_q = TfidfVectorizer()\n",
    "vectorizer_q.fit(questions)\n",
    "matrix_big_q = vectorizer_q.transform(questions)\n",
    "print (\"Размер матрицы: \")\n",
    "print (matrix_big_q.shape)"
   ]
  },
  {
   "cell_type": "code",
   "execution_count": 8,
   "metadata": {},
   "outputs": [
    {
     "name": "stdout",
     "output_type": "stream",
     "text": [
      "Коэффициент уменьшения матрицы: \n",
      "0.2898620302665037\n"
     ]
    }
   ],
   "source": [
    "# Трансформируем матрицу вопросов в меньший размер для уменьшения объема данных\n",
    "\t\n",
    "svd_q = TruncatedSVD()\n",
    "svd_q.fit(matrix_big_q)\n",
    "\n",
    "# получим трансформированную матрицу\n",
    "matrix_small_q = svd_q.transform(matrix_big_q)\n",
    "\n",
    "print (\"Коэффициент уменьшения матрицы: \")\n",
    "print ( svd_q.explained_variance_ratio_.sum())"
   ]
  },
  {
   "cell_type": "code",
   "execution_count": 9,
   "metadata": {},
   "outputs": [],
   "source": [
    "# Тело программы поиска ответов\n",
    "\n",
    "from sklearn.neighbors import BallTree\n",
    "from sklearn.base import BaseEstimator\n",
    "\n",
    "def softmax(x):\n",
    "  #создание вероятностного распределения\n",
    "  proba = np.exp(-x)\n",
    "  return proba / sum(proba)\n",
    "\n",
    "class NeighborSampler(BaseEstimator):\n",
    "  def __init__(self, k=5, temperature=10.0):\n",
    "    self.k=k\n",
    "    self.temperature = temperature\n",
    "  def fit(self, X, y):\n",
    "    self.tree_ = BallTree(X)\n",
    "    self.y_ = np.array(y)\n",
    "  def predict(self, X, random_state=None):\n",
    "    distances, indices = self.tree_.query(X, return_distance=True, k=self.k)\n",
    "    result = []\n",
    "    for distance, index in zip(distances, indices):\n",
    "      result.append(np.random.choice(index, p=softmax(distance * self.temperature)))\n",
    "    return self.y_[result]\n",
    "\n"
   ]
  },
  {
   "cell_type": "code",
   "execution_count": 16,
   "metadata": {},
   "outputs": [],
   "source": [
    "from sklearn.pipeline import make_pipeline\n",
    "\n",
    "ns_q = NeighborSampler()\n",
    "\n",
    "# answer_id - код ответа в массиве, который получается при поиске ближайшего ответа\n",
    "ns_q.fit(matrix_small_q, answer_id) \n",
    "pipe_q = make_pipeline(vectorizer_q, svd_q, ns_q)\n"
   ]
  },
  {
   "cell_type": "code",
   "execution_count": 28,
   "metadata": {},
   "outputs": [
    {
     "name": "stdout",
     "output_type": "stream",
     "text": [
      "Пишите ваш вопрос, слова exit или выход для выхода\n"
     ]
    },
    {
     "ename": "KeyboardInterrupt",
     "evalue": "Interrupted by user",
     "output_type": "error",
     "traceback": [
      "\u001b[1;31m---------------------------------------------------------------------------\u001b[0m",
      "\u001b[1;31mKeyboardInterrupt\u001b[0m                         Traceback (most recent call last)",
      "Cell \u001b[1;32mIn[28], line 9\u001b[0m\n\u001b[0;32m      5\u001b[0m request\u001b[38;5;241m=\u001b[39m\u001b[38;5;124m\"\u001b[39m\u001b[38;5;124m\"\u001b[39m\n\u001b[0;32m      7\u001b[0m \u001b[38;5;28;01mwhile\u001b[39;00m request \u001b[38;5;129;01mnot\u001b[39;00m \u001b[38;5;129;01min\u001b[39;00m [\u001b[38;5;124m'\u001b[39m\u001b[38;5;124mexit\u001b[39m\u001b[38;5;124m'\u001b[39m, \u001b[38;5;124m'\u001b[39m\u001b[38;5;124mвыход\u001b[39m\u001b[38;5;124m'\u001b[39m]:\n\u001b[0;32m      8\u001b[0m \t\u001b[38;5;66;03m# получим текст от ввода\u001b[39;00m\n\u001b[1;32m----> 9\u001b[0m \trequest\u001b[38;5;241m=\u001b[39m\u001b[38;5;28;43minput\u001b[39;49m\u001b[43m(\u001b[49m\u001b[43m)\u001b[49m\n\u001b[0;32m     10\u001b[0m     \u001b[38;5;66;03m# разберем фразу на слова\u001b[39;00m\n\u001b[0;32m     11\u001b[0m \twords\u001b[38;5;241m=\u001b[39m re\u001b[38;5;241m.\u001b[39msplit(\u001b[38;5;124m'\u001b[39m\u001b[38;5;124m\\\u001b[39m\u001b[38;5;124mW\u001b[39m\u001b[38;5;124m'\u001b[39m,request)\n",
      "File \u001b[1;32m~\\AppData\\Local\\Packages\\PythonSoftwareFoundation.Python.3.11_qbz5n2kfra8p0\\LocalCache\\local-packages\\Python311\\site-packages\\ipykernel\\kernelbase.py:1282\u001b[0m, in \u001b[0;36mKernel.raw_input\u001b[1;34m(self, prompt)\u001b[0m\n\u001b[0;32m   1280\u001b[0m     msg \u001b[38;5;241m=\u001b[39m \u001b[38;5;124m\"\u001b[39m\u001b[38;5;124mraw_input was called, but this frontend does not support input requests.\u001b[39m\u001b[38;5;124m\"\u001b[39m\n\u001b[0;32m   1281\u001b[0m     \u001b[38;5;28;01mraise\u001b[39;00m StdinNotImplementedError(msg)\n\u001b[1;32m-> 1282\u001b[0m \u001b[38;5;28;01mreturn\u001b[39;00m \u001b[38;5;28;43mself\u001b[39;49m\u001b[38;5;241;43m.\u001b[39;49m\u001b[43m_input_request\u001b[49m\u001b[43m(\u001b[49m\n\u001b[0;32m   1283\u001b[0m \u001b[43m    \u001b[49m\u001b[38;5;28;43mstr\u001b[39;49m\u001b[43m(\u001b[49m\u001b[43mprompt\u001b[49m\u001b[43m)\u001b[49m\u001b[43m,\u001b[49m\n\u001b[0;32m   1284\u001b[0m \u001b[43m    \u001b[49m\u001b[38;5;28;43mself\u001b[39;49m\u001b[38;5;241;43m.\u001b[39;49m\u001b[43m_parent_ident\u001b[49m\u001b[43m[\u001b[49m\u001b[38;5;124;43m\"\u001b[39;49m\u001b[38;5;124;43mshell\u001b[39;49m\u001b[38;5;124;43m\"\u001b[39;49m\u001b[43m]\u001b[49m\u001b[43m,\u001b[49m\n\u001b[0;32m   1285\u001b[0m \u001b[43m    \u001b[49m\u001b[38;5;28;43mself\u001b[39;49m\u001b[38;5;241;43m.\u001b[39;49m\u001b[43mget_parent\u001b[49m\u001b[43m(\u001b[49m\u001b[38;5;124;43m\"\u001b[39;49m\u001b[38;5;124;43mshell\u001b[39;49m\u001b[38;5;124;43m\"\u001b[39;49m\u001b[43m)\u001b[49m\u001b[43m,\u001b[49m\n\u001b[0;32m   1286\u001b[0m \u001b[43m    \u001b[49m\u001b[43mpassword\u001b[49m\u001b[38;5;241;43m=\u001b[39;49m\u001b[38;5;28;43;01mFalse\u001b[39;49;00m\u001b[43m,\u001b[49m\n\u001b[0;32m   1287\u001b[0m \u001b[43m\u001b[49m\u001b[43m)\u001b[49m\n",
      "File \u001b[1;32m~\\AppData\\Local\\Packages\\PythonSoftwareFoundation.Python.3.11_qbz5n2kfra8p0\\LocalCache\\local-packages\\Python311\\site-packages\\ipykernel\\kernelbase.py:1325\u001b[0m, in \u001b[0;36mKernel._input_request\u001b[1;34m(self, prompt, ident, parent, password)\u001b[0m\n\u001b[0;32m   1322\u001b[0m \u001b[38;5;28;01mexcept\u001b[39;00m \u001b[38;5;167;01mKeyboardInterrupt\u001b[39;00m:\n\u001b[0;32m   1323\u001b[0m     \u001b[38;5;66;03m# re-raise KeyboardInterrupt, to truncate traceback\u001b[39;00m\n\u001b[0;32m   1324\u001b[0m     msg \u001b[38;5;241m=\u001b[39m \u001b[38;5;124m\"\u001b[39m\u001b[38;5;124mInterrupted by user\u001b[39m\u001b[38;5;124m\"\u001b[39m\n\u001b[1;32m-> 1325\u001b[0m     \u001b[38;5;28;01mraise\u001b[39;00m \u001b[38;5;167;01mKeyboardInterrupt\u001b[39;00m(msg) \u001b[38;5;28;01mfrom\u001b[39;00m \u001b[38;5;28;01mNone\u001b[39;00m\n\u001b[0;32m   1326\u001b[0m \u001b[38;5;28;01mexcept\u001b[39;00m \u001b[38;5;167;01mException\u001b[39;00m:\n\u001b[0;32m   1327\u001b[0m     \u001b[38;5;28mself\u001b[39m\u001b[38;5;241m.\u001b[39mlog\u001b[38;5;241m.\u001b[39mwarning(\u001b[38;5;124m\"\u001b[39m\u001b[38;5;124mInvalid Message:\u001b[39m\u001b[38;5;124m\"\u001b[39m, exc_info\u001b[38;5;241m=\u001b[39m\u001b[38;5;28;01mTrue\u001b[39;00m)\n",
      "\u001b[1;31mKeyboardInterrupt\u001b[0m: Interrupted by user"
     ]
    }
   ],
   "source": [
    "# код для проверки работы из консоли\n",
    "\n",
    "print(\"Пишите ваш вопрос, слова exit или выход для выхода\")\n",
    "\n",
    "request=\"\"\n",
    "\n",
    "while request not in ['exit', 'выход']:\n",
    "\t# получим текст от ввода\n",
    "\trequest=input()\n",
    "    # разберем фразу на слова\n",
    "\twords= re.split('\\W',request)\n",
    "\tphrase=\"\"\n",
    "\tfor word in words:\n",
    "\t\t# морфируем слово вопроса в нормальную словоформу\n",
    "\t\tword = morph.parse(word)[0].normal_form  \n",
    "        # Нормализуем словоформу каждого слова и соберем обратно фразу\n",
    "\t\tphrase = phrase + word + \" \"\n",
    "\t# запустим функцию и получим код ответа\n",
    "\treply_id = int(pipe_q.predict([phrase.strip()]))\n",
    "\n",
    "# выведем текст ответа\n",
    "print (answer[reply_id])"
   ]
  },
  {
   "cell_type": "code",
   "execution_count": null,
   "metadata": {},
   "outputs": [
    {
     "name": "stderr",
     "output_type": "stream",
     "text": [
      "C:\\Users\\Алена\\AppData\\Local\\Temp\\ipykernel_21876\\3999907491.py:27: DeprecationWarning: Conversion of an array with ndim > 0 to a scalar is deprecated, and will error in future. Ensure you extract a single element from your array before performing this operation. (Deprecated NumPy 1.25.)\n",
      "  reply_id    = int(pipe_q.predict([phrase.strip()]))\n"
     ]
    },
    {
     "name": "stdout",
     "output_type": "stream",
     "text": [
      "Вопрос: скоро отпуск  \n",
      "\tНормализованный:  скоро отпуск   \n",
      "\t\tОтвет : 5 дней\n"
     ]
    }
   ],
   "source": [
    "import telebot\n",
    "\n",
    "telebot.apihelper.ENABLE_MIDDLEWARE = True\n",
    "\n",
    "# Укажем token полученный при регистрации бота\n",
    "bot = telebot.TeleBot(\"7348375989:AAEjQFcQfe8IbQ8KNgwlVo99ANObmbPJ734\")\n",
    "\n",
    "# Начнем обработку. Если пользователь запустил бота, ответим \n",
    "@bot.message_handler(commands=['start'])\n",
    "def start_message(message):\n",
    "\tbot.send_message(message.from_user.id, \" Здравствуйте. Я виртуальный бот training202!\")\n",
    "\n",
    "# Если пользователь что-то написал, ответим\n",
    "@bot.message_handler(func=lambda message: True)\n",
    "def get_text_messages(message):\n",
    "\trequest=message.text\n",
    "  \n",
    "  # разобьём фразу на массив слов, используя split. '\\W' - любой символ кроме буквы и цифры\n",
    "\twords= re.split('\\W',request)\n",
    "\tphrase=\"\"\n",
    "\t\n",
    "  # разберем фразу на слова, нормализуем каждое и соберем фразу\n",
    "\tfor word in words:\n",
    "\t\tword = morph.parse(word)[0].normal_form  \n",
    "\t\tphrase = phrase + word + \" \"\n",
    "    # получим код ответа вызывая нашу функцию \n",
    "\treply_id    = int(pipe_q.predict([phrase.strip()]))\n",
    "\t# отправим ответ\n",
    "\tbot.send_message(message.from_user.id, answer[reply_id])\n",
    "\t# выведем в консоль вопрос / ответа\n",
    "\tprint(\"Вопрос:\", request, \" \\n\\tНормализованный: \", phrase, \" \\n\\t\\tОтвет :\", answer[reply_id])\n",
    "\n",
    "# Запустим обработку событий бота\n",
    "bot.infinity_polling(none_stop=True, interval=1)\n"
   ]
  }
 ],
 "metadata": {
  "kernelspec": {
   "display_name": "Python 3",
   "language": "python",
   "name": "python3"
  },
  "language_info": {
   "codemirror_mode": {
    "name": "ipython",
    "version": 3
   },
   "file_extension": ".py",
   "mimetype": "text/x-python",
   "name": "python",
   "nbconvert_exporter": "python",
   "pygments_lexer": "ipython3",
   "version": "3.11.9"
  }
 },
 "nbformat": 4,
 "nbformat_minor": 2
}
