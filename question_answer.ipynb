{
 "cells": [
  {
   "cell_type": "code",
   "execution_count": null,
   "metadata": {},
   "outputs": [],
   "source": [
    "#Установим необходимые пакеты Python\n",
    "!pip3 install psycopg2\n",
    "!pip3 install psycopg2-binary scikit-learn numpy pymorphy2"
   ]
  },
  {
   "cell_type": "code",
   "execution_count": 1,
   "metadata": {},
   "outputs": [],
   "source": [
    "# Импортируем библиотеки\n",
    "import pymorphy2\n",
    "import re\n",
    "import psycopg2\n",
    "import numpy as np"
   ]
  },
  {
   "cell_type": "code",
   "execution_count": 2,
   "metadata": {},
   "outputs": [],
   "source": [
    "# Подключаемся к PostgreSQL\n",
    "import psycopg2\n",
    "\n",
    "try:\n",
    "    conn = psycopg2.connect(dbname='postgres', user='postgres', password='postgres', host='localhost')\n",
    "    cursor = conn.cursor()\n",
    "except:\n",
    "    # в случае сбоя подключения будет выведено сообщение \n",
    "    print('Can`t establish connection to database')"
   ]
  },
  {
   "cell_type": "code",
   "execution_count": 3,
   "metadata": {},
   "outputs": [],
   "source": [
    "# Настраиваем язык для библиотеки морфологии\n",
    "import pymorphy3\n",
    "\n",
    "morph = pymorphy3.MorphAnalyzer(lang='ru')"
   ]
  },
  {
   "cell_type": "code",
   "execution_count": 4,
   "metadata": {},
   "outputs": [],
   "source": [
    "# объявляем массив кодов ответов и ответов\n",
    "answer_id=[] \n",
    "answer = dict()"
   ]
  },
  {
   "cell_type": "code",
   "execution_count": 5,
   "metadata": {},
   "outputs": [
    {
     "data": {
      "text/plain": [
       "{4: '14 дней',\n",
       " 5: '30 дней',\n",
       " 6: '5 дней',\n",
       " 1: '1 день',\n",
       " 2: '3 дня',\n",
       " 3: '10 дней',\n",
       " 7: 'да, я готов поговорить об этом',\n",
       " 8: 'здравствуйте',\n",
       " 9: 'скоро'}"
      ]
     },
     "execution_count": 5,
     "metadata": {},
     "output_type": "execute_result"
    }
   ],
   "source": [
    "# получаем из PostgreSQL список ответов и проиндексируем их.\n",
    "cursor.execute('SELECT id, answer FROM tab_answer;')\n",
    "records = cursor.fetchall()\n",
    "for row in records:\n",
    "\t\tanswer[row[0]]=row[1]  \n",
    "answer\t\t"
   ]
  },
  {
   "cell_type": "code",
   "execution_count": 6,
   "metadata": {},
   "outputs": [
    {
     "name": "stdout",
     "output_type": "stream",
     "text": [
      "['срок', 'срок обработка', 'срок обработка заявка', 'срок', 'срок обработка', 'срок обработка заказ', 'срок', 'срок обработка', 'срок обработка заявка', 'срок', 'срок сдача', 'срок сдача проект', 'срок', 'срок изготовление', 'срок изготовление изделие', 'срок', 'срок возврат', 'срок возврат товар', 'время', 'время доставка', 'я', 'я пора', 'я пора увеличить', 'я пора увеличить зарплата', 'сколько', 'сколько у', 'сколько у я', 'сколько у я отпуск', 'добрый', 'добрый утро', 'новогодний', 'новогодний каникулы']\n",
      "{4: '14 дней', 5: '30 дней', 6: '5 дней', 1: '1 день', 2: '3 дня', 3: '10 дней', 7: 'да, я готов поговорить об этом', 8: 'здравствуйте', 9: 'скоро'}\n",
      "[[1], [1], [1], [1], [1], [1], [2], [2], [2], [3], [3], [3], [4], [4], [4], [5], [5], [5], [6], [6], [7], [7], [7], [7], [5], [5], [5], [5], [8], [8], [9], [9]]\n"
     ]
    }
   ],
   "source": [
    "# объявляем массив вопросов\n",
    "questions=[] \n",
    "\n",
    "# загрузим вопросы и коды ответов\n",
    "cursor.execute('SELECT question, answer_id FROM tab_question;')\n",
    "records = cursor.fetchall()\n",
    "\n",
    "# посчитаем количество вопросов\n",
    "transform=0\n",
    "\n",
    "for row in records:\n",
    "\tphrases=row[0]\n",
    "\t# разбираем вопрос на слова\n",
    "\twords=phrases.split(' ')\n",
    "\tphrase=\"\"\n",
    "\tfor word in words:\n",
    "\t\t# каждое слово из вопроса приводим в нормальную словоформу\n",
    "\t\tword = morph.parse(word)[0].normal_form \n",
    "\t\t# составляем фразу из нормализованных слов\n",
    "\t\tphrase = phrase + word + \" \"\n",
    "\t\t# Если длинна полученной фразы больше 0 добавляем ей в массив вопросов и массив кодов ответов\n",
    "\t\tif (len(phrase)>0):\n",
    "\t\t\tquestions.append(phrase.strip())\n",
    "\t\t\tanswer_id.append(row[1])\n",
    "\t\t\ttransform=transform+1\n",
    "\n",
    "# выведем на экран вопросы, ответы и коды ответов\n",
    "print (questions)\n",
    "print (answer)\n",
    "print (answer_id)\n",
    "\n",
    "# Закроем подключение к PostgreSQL\n",
    "cursor.close()\n",
    "conn.close()\n"
   ]
  },
  {
   "cell_type": "code",
   "execution_count": 7,
   "metadata": {},
   "outputs": [
    {
     "name": "stdout",
     "output_type": "stream",
     "text": [
      "Размер матрицы: \n",
      "(32, 21)\n"
     ]
    }
   ],
   "source": [
    "import sklearn\n",
    "# Векторизируем вопросы в огромную матрицу \n",
    "# Перемножив фразы на слова из которых они состоят получим числовые значения\n",
    "\n",
    "from sklearn.feature_extraction.text import TfidfVectorizer\n",
    "from sklearn.decomposition import TruncatedSVD\n",
    "\n",
    "vectorizer_q = TfidfVectorizer()\n",
    "vectorizer_q.fit(questions)\n",
    "matrix_big_q = vectorizer_q.transform(questions)\n",
    "print (\"Размер матрицы: \")\n",
    "print (matrix_big_q.shape)"
   ]
  },
  {
   "cell_type": "code",
   "execution_count": 8,
   "metadata": {},
   "outputs": [
    {
     "name": "stdout",
     "output_type": "stream",
     "text": [
      "Коэффициент уменьшения матрицы: \n",
      "0.2898620302665037\n"
     ]
    }
   ],
   "source": [
    "# Трансформируем матрицу вопросов в меньший размер для уменьшения объема данных\n",
    "\t\n",
    "svd_q = TruncatedSVD()\n",
    "svd_q.fit(matrix_big_q)\n",
    "\n",
    "# получим трансформированную матрицу\n",
    "matrix_small_q = svd_q.transform(matrix_big_q)\n",
    "\n",
    "print (\"Коэффициент уменьшения матрицы: \")\n",
    "print ( svd_q.explained_variance_ratio_.sum())"
   ]
  },
  {
   "cell_type": "code",
   "execution_count": 9,
   "metadata": {},
   "outputs": [],
   "source": [
    "# Тело программы поиска ответов\n",
    "\n",
    "from sklearn.neighbors import BallTree\n",
    "from sklearn.base import BaseEstimator\n",
    "\n",
    "def softmax(x):\n",
    "  #создание вероятностного распределения\n",
    "  proba = np.exp(-x)\n",
    "  return proba / sum(proba)\n",
    "\n",
    "class NeighborSampler(BaseEstimator):\n",
    "  def __init__(self, k=5, temperature=10.0):\n",
    "    self.k=k\n",
    "    self.temperature = temperature\n",
    "  def fit(self, X, y):\n",
    "    self.tree_ = BallTree(X)\n",
    "    self.y_ = np.array(y)\n",
    "  def predict(self, X, random_state=None):\n",
    "    distances, indices = self.tree_.query(X, return_distance=True, k=self.k)\n",
    "    result = []\n",
    "    for distance, index in zip(distances, indices):\n",
    "      result.append(np.random.choice(index, p=softmax(distance * self.temperature)))\n",
    "    return self.y_[result]\n",
    "\n"
   ]
  },
  {
   "cell_type": "code",
   "execution_count": 16,
   "metadata": {},
   "outputs": [],
   "source": [
    "from sklearn.pipeline import make_pipeline\n",
    "\n",
    "ns_q = NeighborSampler()\n",
    "\n",
    "# answer_id - код ответа в массиве, который получается при поиске ближайшего ответа\n",
    "ns_q.fit(matrix_small_q, answer_id) \n",
    "pipe_q = make_pipeline(vectorizer_q, svd_q, ns_q)\n"
   ]
  },
  {
   "cell_type": "code",
   "execution_count": null,
   "metadata": {},
   "outputs": [
    {
     "name": "stderr",
     "output_type": "stream",
     "text": [
      "C:\\Users\\Алена\\AppData\\Local\\Temp\\ipykernel_21876\\3999907491.py:27: DeprecationWarning: Conversion of an array with ndim > 0 to a scalar is deprecated, and will error in future. Ensure you extract a single element from your array before performing this operation. (Deprecated NumPy 1.25.)\n",
      "  reply_id    = int(pipe_q.predict([phrase.strip()]))\n"
     ]
    },
    {
     "name": "stdout",
     "output_type": "stream",
     "text": [
      "Вопрос: скоро отпуск  \n",
      "\tНормализованный:  скоро отпуск   \n",
      "\t\tОтвет : 5 дней\n"
     ]
    }
   ],
   "source": [
    "import telebot\n",
    "\n",
    "telebot.apihelper.ENABLE_MIDDLEWARE = True\n",
    "\n",
    "# Укажем token полученный при регистрации бота\n",
    "bot = telebot.TeleBot(\"7348375989:AAEjQFcQfe8IbQ8KNgwlVo99ANObmbPJ734\")\n",
    "\n",
    "# Начнем обработку. Если пользователь запустил бота, ответим \n",
    "@bot.message_handler(commands=['start'])\n",
    "def start_message(message):\n",
    "\tbot.send_message(message.from_user.id, \" Здравствуйте. Я виртуальный бот training202!\")\n",
    "\n",
    "# Если пользователь что-то написал, ответим\n",
    "@bot.message_handler(func=lambda message: True)\n",
    "def get_text_messages(message):\n",
    "\trequest=message.text\n",
    "  \n",
    "  # разобьём фразу на массив слов, используя split. '\\W' - любой символ кроме буквы и цифры\n",
    "\twords= re.split('\\W',request)\n",
    "\tphrase=\"\"\n",
    "\t\n",
    "  # разберем фразу на слова, нормализуем каждое и соберем фразу\n",
    "\tfor word in words:\n",
    "\t\tword = morph.parse(word)[0].normal_form  \n",
    "\t\tphrase = phrase + word + \" \"\n",
    "    # получим код ответа вызывая нашу функцию \n",
    "\treply_id    = int(pipe_q.predict([phrase.strip()]))\n",
    "\t# отправим ответ\n",
    "\tbot.send_message(message.from_user.id, answer[reply_id])\n",
    "\t# выведем в консоль вопрос / ответа\n",
    "\tprint(\"Вопрос:\", request, \" \\n\\tНормализованный: \", phrase, \" \\n\\t\\tОтвет :\", answer[reply_id])\n",
    "\n",
    "# Запустим обработку событий бота\n",
    "bot.infinity_polling(none_stop=True, interval=1)\n"
   ]
  }
 ],
 "metadata": {
  "kernelspec": {
   "display_name": "Python 3",
   "language": "python",
   "name": "python3"
  },
  "language_info": {
   "codemirror_mode": {
    "name": "ipython",
    "version": 3
   },
   "file_extension": ".py",
   "mimetype": "text/x-python",
   "name": "python",
   "nbconvert_exporter": "python",
   "pygments_lexer": "ipython3",
   "version": "3.11.9"
  }
 },
 "nbformat": 4,
 "nbformat_minor": 2
}
