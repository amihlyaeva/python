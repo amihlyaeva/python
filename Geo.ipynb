{
  "nbformat": 4,
  "nbformat_minor": 0,
  "metadata": {
    "colab": {
      "provenance": [],
      "authorship_tag": "ABX9TyNo+aCpx77lq8Uhjj7lV8W/",
      "include_colab_link": true
    },
    "kernelspec": {
      "name": "python3",
      "display_name": "Python 3"
    },
    "language_info": {
      "name": "python"
    }
  },
  "cells": [
    {
      "cell_type": "markdown",
      "metadata": {
        "id": "view-in-github",
        "colab_type": "text"
      },
      "source": [
        "<a href=\"https://colab.research.google.com/github/amihlyaeva/python/blob/main/Geo.ipynb\" target=\"_parent\"><img src=\"https://colab.research.google.com/assets/colab-badge.svg\" alt=\"Open In Colab\"/></a>"
      ]
    },
    {
      "cell_type": "code",
      "execution_count": null,
      "metadata": {
        "id": "B2J6K5nB2ezM"
      },
      "outputs": [],
      "source": [
        "#Импортировать необходимые модули\n",
        "import geopandas as gpd\n",
        "import matplotlib.pyplot as plt\n",
        "from shapely.geometry import Polygon, Point\n",
        "import random\n",
        "import numpy as np"
      ]
    },
    {
      "cell_type": "code",
      "source": [
        "#Загрузка границ участка и ограничений из GeoJSON\n",
        "def load_site_and_restrictions(geojson_file):\n",
        "    gdf = gpd.read_file(geojson_file)\n",
        "\n",
        "    # Получаем границы участка (Polygon) – допустим, они всегда первые\n",
        "    site_boundary = gdf.geometry.iloc[0]  # Зона застройки (Polygon)\n",
        "\n",
        "    # Остальные объекты – ограничения\n",
        "    restrictions = gdf.geometry[1:]  # Все остальные объекты (Polygon или LineString)\n",
        "\n",
        "    return site_boundary, restrictions"
      ],
      "metadata": {
        "id": "81Tqnl4eHmFw"
      },
      "execution_count": null,
      "outputs": []
    },
    {
      "cell_type": "code",
      "source": [
        "#размещения объектов\n",
        "\n",
        "def auto_building_with_roads(geojson_file, density_limit, min_distance, road_width):\n",
        "    # Загрузить границы участка и ограничения\n",
        "    site_polygon, restrictions = load_site_and_restrictions(geojson_file)\n",
        "\n",
        "    # Пространство для построенных объектов\n",
        "    buildings = []\n",
        "    parks = []\n",
        "    roads = []\n",
        "\n",
        "    # Общая площадь участка и зона застройки\n",
        "    area = site_polygon.area\n",
        "    buildable_area = area * (density_limit / 100)\n",
        "\n",
        "    # Генерация парков\n",
        "    num_parks = 1  # Указываем количество парков, можно изменить на произвольное\n",
        "    for _ in range(num_parks):\n",
        "        park_location = Point(random.uniform(site_polygon.bounds[0], site_polygon.bounds[2]),\n",
        "                              random.uniform(site_polygon.bounds[1], site_polygon.bounds[3]))\n",
        "        park_radius = random.uniform(10, 20)  # Задайте радиус парка\n",
        "        park = park_location.buffer(park_radius)\n",
        "\n",
        "        while not site_polygon.contains(park) or restrictions.geometry.intersects(park).any():\n",
        "            park_location = Point(random.uniform(site_polygon.bounds[0], site_polygon.bounds[2]),\n",
        "                                  random.uniform(site_polygon.bounds[1], site_polygon.bounds[3]))\n",
        "            park = park_location.buffer(park_radius)\n",
        "\n",
        "        parks.append(park)\n",
        "\n",
        "    # Генерация зданий\n",
        "    while buildable_area > 0:\n",
        "        x = random.uniform(site_polygon.bounds[0], site_polygon.bounds[2])\n",
        "        y = random.uniform(site_polygon.bounds[1], site_polygon.bounds[3])\n",
        "        random_point = Point(x, y)\n",
        "\n",
        "        building_radius = random.uniform(5, 15)\n",
        "        building = random_point.buffer(building_radius)\n",
        "\n",
        "        if not site_polygon.contains(building) or restrictions.geometry.intersects(building).any():\n",
        "            continue\n",
        "\n",
        "        if any(building.distance(Point(b.centroid.x, b.centroid.y)) < min_distance for b in buildings + parks):\n",
        "            continue\n",
        "\n",
        "        buildings.append(building)\n",
        "        buildable_area -= building.area\n",
        "\n",
        "    # Генерация дорог\n",
        "    for _ in range(5):  # Указываем количество дорог, можно изменить\n",
        "        start = Point(random.uniform(site_polygon.bounds[0], site_polygon.bounds[2]),\n",
        "                      random.uniform(site_polygon.bounds[1], site_polygon.bounds[3]))\n",
        "        end = Point(random.uniform(site_polygon.bounds[0], site_polygon.bounds[2]),\n",
        "                    random.uniform(site_polygon.bounds[1], site_polygon.bounds[3]))\n",
        "\n",
        "        # Создание линии дороги\n",
        "        road_line = gpd.GeoSeries([LineString([start, end])]).buffer(road_width / 2).unary_union\n",
        "\n",
        "        if not site_polygon.contains(road_line) or restrictions.geometry.intersects(road_line).any():\n",
        "            continue\n",
        "\n",
        "        roads.append(road_line)\n",
        "\n",
        "    # Конвертируем в GeoDataFrame\n",
        "    buildings_gdf = gpd.GeoDataFrame(geometry=buildings)\n",
        "    parks_gdf = gpd.GeoDataFrame(geometry=parks)\n",
        "    roads_gdf = gpd.GeoDataFrame(geometry=roads)\n",
        "\n",
        "    return buildings_gdf, parks_gdf, roads_gdf"
      ],
      "metadata": {
        "id": "M6IzAp-N64f8"
      },
      "execution_count": null,
      "outputs": []
    },
    {
      "cell_type": "code",
      "source": [
        "#генерация плана\n",
        "def generate_complete_plan_image(buildings_df, parks_df, roads_df, output_image='complete_plan.png'):\n",
        "    plt.figure(figsize=(10, 10))\n",
        "\n",
        "    # Отрисовка дорог\n",
        "    if not roads_df.empty:\n",
        "        roads_df.plot(ax=plt.gca(), color='brown', alpha=0.7, edgecolor='black', label='Roads')\n",
        "\n",
        "    # Отрисовка зданий\n",
        "    if not buildings_df.empty:\n",
        "        buildings_df.plot(ax=plt.gca(), color='lightblue', alpha=0.7, edgecolor='black', label='Buildings')\n",
        "\n",
        "    # Отрисовка парков\n",
        "    if not parks_df.empty:\n",
        "        parks_df.plot(ax=plt.gca(), color='green', alpha=0.5, edgecolor='black', label='Parks')\n",
        "\n",
        "    plt.title(\"Site Plan with Buildings, Parks, and Roads\")\n",
        "    plt.xlabel(\"Longitude\")\n",
        "    plt.ylabel(\"Latitude\")\n",
        "    plt.legend()\n",
        "    plt.grid()\n",
        "    plt.savefig(output_image)\n",
        "    plt.close()\n",
        "    # Отображение плана на экране\n",
        "    plt.show()\n",
        "    plt.close()  # Закройте текущее изображение"
      ],
      "metadata": {
        "id": "ejgabBre71WE"
      },
      "execution_count": null,
      "outputs": []
    },
    {
      "cell_type": "code",
      "source": [
        "geojson_file = '/content/input.geojson'  # Путь к вашему входному GeoJSON файлу\n",
        "density_limit = 30  # Процент площади участка для застройки\n",
        "min_distance = 10  # Минимальное расстояние между объектами\n",
        "road_width = 5  # Ширина дороги\n",
        "\n",
        "# Запускаем алгоритм\n",
        "buildings, parks, roads = auto_building_with_roads(geojson_file, density_limit, min_distance, road_width)\n",
        "\n",
        "# Сохранение результатов в GeoJSON\n",
        "buildings.to_file('output_buildings.geojson', driver='GeoJSON')\n",
        "parks.to_file('output_parks.geojson', driver='GeoJSON')\n",
        "roads.to_file('output_roads.geojson', driver='GeoJSON')\n",
        "\n",
        "# Сгенерировать изображение плана участка\n",
        "generate_complete_plan_image(buildings, parks, roads)"
      ],
      "metadata": {
        "id": "yAr6vFTJEDMC"
      },
      "execution_count": null,
      "outputs": []
    },
    {
      "cell_type": "code",
      "source": [],
      "metadata": {
        "id": "UIgx39i5mbWX"
      },
      "execution_count": null,
      "outputs": []
    }
  ]
}